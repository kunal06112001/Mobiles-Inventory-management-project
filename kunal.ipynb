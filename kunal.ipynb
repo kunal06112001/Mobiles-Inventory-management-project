{
  "nbformat": 4,
  "nbformat_minor": 0,
  "metadata": {
    "colab": {
      "name": "kunal.ipynb",
      "provenance": []
    },
    "kernelspec": {
      "name": "python3",
      "display_name": "Python 3"
    },
    "language_info": {
      "name": "python"
    }
  },
  "cells": [
    {
      "cell_type": "code",
      "metadata": {
        "id": "j0FetgBzhUVF"
      },
      "source": [
        "Record={1:{'prod_name':'OPPO F19'               ,'Color':'BLACK'             ,'Price':18989       ,'Stock':10      },\n",
        "        2:{'prod_name':'REDMI NOTE 7S'          ,'Color':'SHAWDOW BLACK'     ,'Price':8999        ,'Stock':25      },\n",
        "        3:{'prod_name':'REDMI NOTE 7PRO'        ,'Color':'MOOMNLIGHT'        ,'Price':9999        ,'Stock':22      },\n",
        "        4:{'prod_name':'REDMI NOTE 7'           ,'Color':'SILVER'            ,'Price':10000       ,'Stock':11      },\n",
        "        5:{'prod_name':'REDMI NOTE 6PRO'        ,'Color':'BLACK'             ,'Price':8000        ,'Stock':5      },\n",
        "        6:{'prod_name':'REDMI NOTE 6'           ,'Color':'BLUE'              ,'Price':10000       ,'Stock':14      },\n",
        "        7:{'prod_name':'REDMI NOTE 5PRO'        ,'Color':'GRAY'              ,'Price':6999        ,'Stock':5      },\n",
        "        8:{'prod_name':'REDMI NOTE 5'           ,'Color':'GRAY'              ,'Price':5999        ,'Stock':4      },\n",
        "        9:{'prod_name':'REDMI NOTE 10 PRO'      ,'Color':'BLUE'              ,'Price':14500       ,'Stock':16      },\n",
        "        10:{'prod_name':'OPPO RENO 6'           ,'Color':'SILVER'            ,'Price':29990       ,'Stock':22      },\n",
        "        11:{'prod_name':'OPPO F19 PRO'          ,'Color':'BROWN'             ,'Price':21490       ,'Stock':2      },\n",
        "        12:{'prod_name':'REALME 8'              ,'Color':'GOLD'              ,'Price':14999       ,'Stock':5      },\n",
        "        13:{'prod_name':'REALME 8 PRO'          ,'Color':'PINK'              ,'Price':17999       ,'Stock':8      },\n",
        "        14:{'prod_name':'REALME C3'             ,'Color':'VIOLET'            ,'Price':13999       ,'Stock':7      },\n",
        "        15:{'prod_name':'REALME 7'              ,'Color':'BLACK'             ,'Price':12999       ,'Stock':9      },\n",
        "        16:{'prod_name':'REALME 7PRO'           ,'Color':'GOLD'              ,'Price':20133       ,'Stock':5      },\n",
        "        17:{'prod_name':'REALME X7 PRO'         ,'Color':'BLUE'              ,'Price':26999       ,'Stock':4      },\n",
        "        18:{'prod_name':'IPHONE 12'             ,'Color':'GOLD'              ,'Price':79500       ,'Stock':2      },\n",
        "        19:{'prod_name':'IPHONE 12PRO'          ,'Color':'BLUE'              ,'Price':120500      ,'Stock':5      },\n",
        "        20:{'prod_name':'IPHONE 11'             ,'Color':'BLACK'             ,'Price':50246       ,'Stock':4      },\n",
        "        21:{'prod_name':'IPHONE 11PRO'          ,'Color':'GREEN'             ,'Price':82545       ,'Stock':3      },\n",
        "        22:{'prod_name':'ONE PLUS9'             ,'Color':'BLUE'              ,'Price':49999       ,'Stock':8      },\n",
        "        23:{'prod_name':'ONE PLUS 9PRO'         ,'Color':'GREEN'             ,'Price':64999       ,'Stock':5      },\n",
        "        24:{'prod_name':'ONEPLUS NORD'          ,'Color':'MOOMLIGHT'         ,'Price':25144       ,'Stock':12      },\n",
        "        25:{'prod_name':'ASUZ ROG PHONE'        ,'Color':'BLACK'             ,'Price':26454       ,'Stock':15      },\n",
        "        26:{'prod_name':'POCO M2 PRO'           ,'Color':'BLACK'             ,'Price':14999       ,'Stock':22      },\n",
        "        27:{'prod_name':'POCO F2 PRO'           ,'Color':'GRAY'              ,'Price':14999       ,'Stock':25      },\n",
        "        28:{'prod_name':'POCO M2'               ,'Color':'RED'               ,'Price':10140       ,'Stock':19      },\n",
        "        29:{'prod_name':'LENOVO K6 POWER'       ,'Color':'BLACK'             ,'Price':9999        ,'Stock':19      },\n",
        "        30:{'prod_name':'LENOVO VIBE'           ,'Color':'WHITE'             ,'Price':12999       ,'Stock':25      }}"
      ],
      "execution_count": 22,
      "outputs": []
    },
    {
      "cell_type": "code",
      "metadata": {
        "id": "0LVsJHk8rr2j"
      },
      "source": [
        "import json"
      ],
      "execution_count": 23,
      "outputs": []
    },
    {
      "cell_type": "code",
      "metadata": {
        "id": "KH3z8DXYtxtl"
      },
      "source": [
        "js = json.dumps(Record)"
      ],
      "execution_count": 24,
      "outputs": []
    },
    {
      "cell_type": "code",
      "metadata": {
        "colab": {
          "base_uri": "https://localhost:8080/",
          "height": 224
        },
        "id": "kRSuS0Lqt3mc",
        "outputId": "5157353a-9560-4cd5-8410-c55d83d5b848"
      },
      "source": [
        "js"
      ],
      "execution_count": 25,
      "outputs": [
        {
          "output_type": "execute_result",
          "data": {
            "application/vnd.google.colaboratory.intrinsic+json": {
              "type": "string"
            },
            "text/plain": [
              "'{\"1\": {\"prod_name\": \"OPPO F19\", \"Color\": \"BLACK\", \"Price\": 18989, \"Stock\": 10}, \"2\": {\"prod_name\": \"REDMI NOTE 7S\", \"Color\": \"SHAWDOW BLACK\", \"Price\": 8999, \"Stock\": 25}, \"3\": {\"prod_name\": \"REDMI NOTE 7PRO\", \"Color\": \"MOOMNLIGHT\", \"Price\": 9999, \"Stock\": 22}, \"4\": {\"prod_name\": \"REDMI NOTE 7\", \"Color\": \"SILVER\", \"Price\": 10000, \"Stock\": 11}, \"5\": {\"prod_name\": \"REDMI NOTE 6PRO\", \"Color\": \"BLACK\", \"Price\": 8000, \"Stock\": 5}, \"6\": {\"prod_name\": \"REDMI NOTE 6\", \"Color\": \"BLUE\", \"Price\": 10000, \"Stock\": 14}, \"7\": {\"prod_name\": \"REDMI NOTE 5PRO\", \"Color\": \"GRAY\", \"Price\": 6999, \"Stock\": 5}, \"8\": {\"prod_name\": \"REDMI NOTE 5\", \"Color\": \"GRAY\", \"Price\": 5999, \"Stock\": 4}, \"9\": {\"prod_name\": \"REDMI NOTE 10 PRO\", \"Color\": \"BLUE\", \"Price\": 14500, \"Stock\": 16}, \"10\": {\"prod_name\": \"OPPO RENO 6\", \"Color\": \"SILVER\", \"Price\": 29990, \"Stock\": 22}, \"11\": {\"prod_name\": \"OPPO F19 PRO\", \"Color\": \"BROWN\", \"Price\": 21490, \"Stock\": 2}, \"12\": {\"prod_name\": \"REALME 8\", \"Color\": \"GOLD\", \"Price\": 14999, \"Stock\": 5}, \"13\": {\"prod_name\": \"REALME 8 PRO\", \"Color\": \"PINK\", \"Price\": 17999, \"Stock\": 8}, \"14\": {\"prod_name\": \"REALME C3\", \"Color\": \"VIOLET\", \"Price\": 13999, \"Stock\": 7}, \"15\": {\"prod_name\": \"REALME 7\", \"Color\": \"BLACK\", \"Price\": 12999, \"Stock\": 9}, \"16\": {\"prod_name\": \"REALME 7PRO\", \"Color\": \"GOLD\", \"Price\": 20133, \"Stock\": 5}, \"17\": {\"prod_name\": \"REALME X7 PRO\", \"Color\": \"BLUE\", \"Price\": 26999, \"Stock\": 4}, \"18\": {\"prod_name\": \"IPHONE 12\", \"Color\": \"GOLD\", \"Price\": 79500, \"Stock\": 2}, \"19\": {\"prod_name\": \"IPHONE 12PRO\", \"Color\": \"BLUE\", \"Price\": 120500, \"Stock\": 5}, \"20\": {\"prod_name\": \"IPHONE 11\", \"Color\": \"BLACK\", \"Price\": 50246, \"Stock\": 4}, \"21\": {\"prod_name\": \"IPHONE 11PRO\", \"Color\": \"GREEN\", \"Price\": 82545, \"Stock\": 3}, \"22\": {\"prod_name\": \"ONE PLUS9\", \"Color\": \"BLUE\", \"Price\": 49999, \"Stock\": 8}, \"23\": {\"prod_name\": \"ONE PLUS 9PRO\", \"Color\": \"GREEN\", \"Price\": 64999, \"Stock\": 5}, \"24\": {\"prod_name\": \"ONEPLUS NORD\", \"Color\": \"MOOMLIGHT\", \"Price\": 25144, \"Stock\": 12}, \"25\": {\"prod_name\": \"ASUZ ROG PHONE\", \"Color\": \"BLACK\", \"Price\": 26454, \"Stock\": 15}, \"26\": {\"prod_name\": \"POCO M2 PRO\", \"Color\": \"BLACK\", \"Price\": 14999, \"Stock\": 22}, \"27\": {\"prod_name\": \"POCO F2 PRO\", \"Color\": \"GRAY\", \"Price\": 14999, \"Stock\": 25}, \"28\": {\"prod_name\": \"POCO M2\", \"Color\": \"RED\", \"Price\": 10140, \"Stock\": 19}, \"29\": {\"prod_name\": \"LENOVO K6 POWER\", \"Color\": \"BLACK\", \"Price\": 9999, \"Stock\": 19}, \"30\": {\"prod_name\": \"LENOVO VIBE\", \"Color\": \"WHITE\", \"Price\": 12999, \"Stock\": 25}}'"
            ]
          },
          "metadata": {},
          "execution_count": 25
        }
      ]
    },
    {
      "cell_type": "code",
      "metadata": {
        "id": "4yDy5qfEt7aj"
      },
      "source": [
        "fd = open(\"kRecord.json\",'w')\n",
        "\n",
        "fd.write(js)\n",
        "\n",
        "fd.close()"
      ],
      "execution_count": 26,
      "outputs": []
    },
    {
      "cell_type": "code",
      "metadata": {
        "id": "_h_2tJEuuDA6"
      },
      "source": [
        "fd = open('kRecord.json','r')\n",
        "\n",
        "txt=fd.read()\n",
        "\n",
        "fd.close()"
      ],
      "execution_count": 27,
      "outputs": []
    },
    {
      "cell_type": "code",
      "metadata": {
        "colab": {
          "base_uri": "https://localhost:8080/",
          "height": 224
        },
        "id": "iMOsImXOuJkt",
        "outputId": "cd58c99d-79eb-46b0-a3e1-b8da123675ab"
      },
      "source": [
        "txt"
      ],
      "execution_count": 28,
      "outputs": [
        {
          "output_type": "execute_result",
          "data": {
            "application/vnd.google.colaboratory.intrinsic+json": {
              "type": "string"
            },
            "text/plain": [
              "'{\"1\": {\"prod_name\": \"OPPO F19\", \"Color\": \"BLACK\", \"Price\": 18989, \"Stock\": 10}, \"2\": {\"prod_name\": \"REDMI NOTE 7S\", \"Color\": \"SHAWDOW BLACK\", \"Price\": 8999, \"Stock\": 25}, \"3\": {\"prod_name\": \"REDMI NOTE 7PRO\", \"Color\": \"MOOMNLIGHT\", \"Price\": 9999, \"Stock\": 22}, \"4\": {\"prod_name\": \"REDMI NOTE 7\", \"Color\": \"SILVER\", \"Price\": 10000, \"Stock\": 11}, \"5\": {\"prod_name\": \"REDMI NOTE 6PRO\", \"Color\": \"BLACK\", \"Price\": 8000, \"Stock\": 5}, \"6\": {\"prod_name\": \"REDMI NOTE 6\", \"Color\": \"BLUE\", \"Price\": 10000, \"Stock\": 14}, \"7\": {\"prod_name\": \"REDMI NOTE 5PRO\", \"Color\": \"GRAY\", \"Price\": 6999, \"Stock\": 5}, \"8\": {\"prod_name\": \"REDMI NOTE 5\", \"Color\": \"GRAY\", \"Price\": 5999, \"Stock\": 4}, \"9\": {\"prod_name\": \"REDMI NOTE 10 PRO\", \"Color\": \"BLUE\", \"Price\": 14500, \"Stock\": 16}, \"10\": {\"prod_name\": \"OPPO RENO 6\", \"Color\": \"SILVER\", \"Price\": 29990, \"Stock\": 22}, \"11\": {\"prod_name\": \"OPPO F19 PRO\", \"Color\": \"BROWN\", \"Price\": 21490, \"Stock\": 2}, \"12\": {\"prod_name\": \"REALME 8\", \"Color\": \"GOLD\", \"Price\": 14999, \"Stock\": 5}, \"13\": {\"prod_name\": \"REALME 8 PRO\", \"Color\": \"PINK\", \"Price\": 17999, \"Stock\": 8}, \"14\": {\"prod_name\": \"REALME C3\", \"Color\": \"VIOLET\", \"Price\": 13999, \"Stock\": 7}, \"15\": {\"prod_name\": \"REALME 7\", \"Color\": \"BLACK\", \"Price\": 12999, \"Stock\": 9}, \"16\": {\"prod_name\": \"REALME 7PRO\", \"Color\": \"GOLD\", \"Price\": 20133, \"Stock\": 5}, \"17\": {\"prod_name\": \"REALME X7 PRO\", \"Color\": \"BLUE\", \"Price\": 26999, \"Stock\": 4}, \"18\": {\"prod_name\": \"IPHONE 12\", \"Color\": \"GOLD\", \"Price\": 79500, \"Stock\": 2}, \"19\": {\"prod_name\": \"IPHONE 12PRO\", \"Color\": \"BLUE\", \"Price\": 120500, \"Stock\": 5}, \"20\": {\"prod_name\": \"IPHONE 11\", \"Color\": \"BLACK\", \"Price\": 50246, \"Stock\": 4}, \"21\": {\"prod_name\": \"IPHONE 11PRO\", \"Color\": \"GREEN\", \"Price\": 82545, \"Stock\": 3}, \"22\": {\"prod_name\": \"ONE PLUS9\", \"Color\": \"BLUE\", \"Price\": 49999, \"Stock\": 8}, \"23\": {\"prod_name\": \"ONE PLUS 9PRO\", \"Color\": \"GREEN\", \"Price\": 64999, \"Stock\": 5}, \"24\": {\"prod_name\": \"ONEPLUS NORD\", \"Color\": \"MOOMLIGHT\", \"Price\": 25144, \"Stock\": 12}, \"25\": {\"prod_name\": \"ASUZ ROG PHONE\", \"Color\": \"BLACK\", \"Price\": 26454, \"Stock\": 15}, \"26\": {\"prod_name\": \"POCO M2 PRO\", \"Color\": \"BLACK\", \"Price\": 14999, \"Stock\": 22}, \"27\": {\"prod_name\": \"POCO F2 PRO\", \"Color\": \"GRAY\", \"Price\": 14999, \"Stock\": 25}, \"28\": {\"prod_name\": \"POCO M2\", \"Color\": \"RED\", \"Price\": 10140, \"Stock\": 19}, \"29\": {\"prod_name\": \"LENOVO K6 POWER\", \"Color\": \"BLACK\", \"Price\": 9999, \"Stock\": 19}, \"30\": {\"prod_name\": \"LENOVO VIBE\", \"Color\": \"WHITE\", \"Price\": 12999, \"Stock\": 25}}'"
            ]
          },
          "metadata": {},
          "execution_count": 28
        }
      ]
    },
    {
      "cell_type": "code",
      "metadata": {
        "id": "HfotQToRuKqU"
      },
      "source": [
        "product = json.loads(txt)"
      ],
      "execution_count": 29,
      "outputs": []
    },
    {
      "cell_type": "code",
      "metadata": {
        "colab": {
          "base_uri": "https://localhost:8080/"
        },
        "id": "Jlwjo5DluQeg",
        "outputId": "a0525839-f27a-4b37-d638-55235216d60c"
      },
      "source": [
        "product"
      ],
      "execution_count": 30,
      "outputs": [
        {
          "output_type": "execute_result",
          "data": {
            "text/plain": [
              "{'1': {'Color': 'BLACK', 'Price': 18989, 'Stock': 10, 'prod_name': 'OPPO F19'},\n",
              " '10': {'Color': 'SILVER',\n",
              "  'Price': 29990,\n",
              "  'Stock': 22,\n",
              "  'prod_name': 'OPPO RENO 6'},\n",
              " '11': {'Color': 'BROWN',\n",
              "  'Price': 21490,\n",
              "  'Stock': 2,\n",
              "  'prod_name': 'OPPO F19 PRO'},\n",
              " '12': {'Color': 'GOLD', 'Price': 14999, 'Stock': 5, 'prod_name': 'REALME 8'},\n",
              " '13': {'Color': 'PINK',\n",
              "  'Price': 17999,\n",
              "  'Stock': 8,\n",
              "  'prod_name': 'REALME 8 PRO'},\n",
              " '14': {'Color': 'VIOLET',\n",
              "  'Price': 13999,\n",
              "  'Stock': 7,\n",
              "  'prod_name': 'REALME C3'},\n",
              " '15': {'Color': 'BLACK', 'Price': 12999, 'Stock': 9, 'prod_name': 'REALME 7'},\n",
              " '16': {'Color': 'GOLD',\n",
              "  'Price': 20133,\n",
              "  'Stock': 5,\n",
              "  'prod_name': 'REALME 7PRO'},\n",
              " '17': {'Color': 'BLUE',\n",
              "  'Price': 26999,\n",
              "  'Stock': 4,\n",
              "  'prod_name': 'REALME X7 PRO'},\n",
              " '18': {'Color': 'GOLD', 'Price': 79500, 'Stock': 2, 'prod_name': 'IPHONE 12'},\n",
              " '19': {'Color': 'BLUE',\n",
              "  'Price': 120500,\n",
              "  'Stock': 5,\n",
              "  'prod_name': 'IPHONE 12PRO'},\n",
              " '2': {'Color': 'SHAWDOW BLACK',\n",
              "  'Price': 8999,\n",
              "  'Stock': 25,\n",
              "  'prod_name': 'REDMI NOTE 7S'},\n",
              " '20': {'Color': 'BLACK',\n",
              "  'Price': 50246,\n",
              "  'Stock': 4,\n",
              "  'prod_name': 'IPHONE 11'},\n",
              " '21': {'Color': 'GREEN',\n",
              "  'Price': 82545,\n",
              "  'Stock': 3,\n",
              "  'prod_name': 'IPHONE 11PRO'},\n",
              " '22': {'Color': 'BLUE', 'Price': 49999, 'Stock': 8, 'prod_name': 'ONE PLUS9'},\n",
              " '23': {'Color': 'GREEN',\n",
              "  'Price': 64999,\n",
              "  'Stock': 5,\n",
              "  'prod_name': 'ONE PLUS 9PRO'},\n",
              " '24': {'Color': 'MOOMLIGHT',\n",
              "  'Price': 25144,\n",
              "  'Stock': 12,\n",
              "  'prod_name': 'ONEPLUS NORD'},\n",
              " '25': {'Color': 'BLACK',\n",
              "  'Price': 26454,\n",
              "  'Stock': 15,\n",
              "  'prod_name': 'ASUZ ROG PHONE'},\n",
              " '26': {'Color': 'BLACK',\n",
              "  'Price': 14999,\n",
              "  'Stock': 22,\n",
              "  'prod_name': 'POCO M2 PRO'},\n",
              " '27': {'Color': 'GRAY',\n",
              "  'Price': 14999,\n",
              "  'Stock': 25,\n",
              "  'prod_name': 'POCO F2 PRO'},\n",
              " '28': {'Color': 'RED', 'Price': 10140, 'Stock': 19, 'prod_name': 'POCO M2'},\n",
              " '29': {'Color': 'BLACK',\n",
              "  'Price': 9999,\n",
              "  'Stock': 19,\n",
              "  'prod_name': 'LENOVO K6 POWER'},\n",
              " '3': {'Color': 'MOOMNLIGHT',\n",
              "  'Price': 9999,\n",
              "  'Stock': 22,\n",
              "  'prod_name': 'REDMI NOTE 7PRO'},\n",
              " '30': {'Color': 'WHITE',\n",
              "  'Price': 12999,\n",
              "  'Stock': 25,\n",
              "  'prod_name': 'LENOVO VIBE'},\n",
              " '4': {'Color': 'SILVER',\n",
              "  'Price': 10000,\n",
              "  'Stock': 11,\n",
              "  'prod_name': 'REDMI NOTE 7'},\n",
              " '5': {'Color': 'BLACK',\n",
              "  'Price': 8000,\n",
              "  'Stock': 5,\n",
              "  'prod_name': 'REDMI NOTE 6PRO'},\n",
              " '6': {'Color': 'BLUE',\n",
              "  'Price': 10000,\n",
              "  'Stock': 14,\n",
              "  'prod_name': 'REDMI NOTE 6'},\n",
              " '7': {'Color': 'GRAY',\n",
              "  'Price': 6999,\n",
              "  'Stock': 5,\n",
              "  'prod_name': 'REDMI NOTE 5PRO'},\n",
              " '8': {'Color': 'GRAY',\n",
              "  'Price': 5999,\n",
              "  'Stock': 4,\n",
              "  'prod_name': 'REDMI NOTE 5'},\n",
              " '9': {'Color': 'BLUE',\n",
              "  'Price': 14500,\n",
              "  'Stock': 16,\n",
              "  'prod_name': 'REDMI NOTE 10 PRO'}}"
            ]
          },
          "metadata": {},
          "execution_count": 30
        }
      ]
    },
    {
      "cell_type": "code",
      "metadata": {
        "id": "AnWtWOCvuSK6"
      },
      "source": [
        "import time"
      ],
      "execution_count": 31,
      "outputs": []
    },
    {
      "cell_type": "code",
      "metadata": {
        "colab": {
          "base_uri": "https://localhost:8080/"
        },
        "id": "Q5BjVpH6uZXb",
        "outputId": "a776b5b6-db6b-4c81-a7c2-4bac503b7b73"
      },
      "source": [
        "print(\"*****WELCOME TO THE SHOP*****\")\n",
        "\n",
        "ui_name=input('Enter the User Name :')\n",
        "\n",
        "print(product)\n",
        "\n",
        "ui_prod = str(input(\"Enter the product ID :\"))\n",
        "\n",
        "ui_quan = int(input(\"Enter the Quantity :\"))\n",
        "\n",
        "if(ui_prod in product):\n",
        "  print('Date and Time :',time.ctime())\n",
        "  print('Name of custmer :',ui_name)\n",
        "  print('Name of selected product ID :',product[ui_prod]['prod_name'])\n",
        "  print('Price of selected product Id :',product[ui_prod]['Price'])\n",
        "  print('*****PRINTING BILLING AMOUNT*****')\n",
        "  gen_bill=(product[ui_prod]['Price']*ui_quan)\n",
        "  print('Billing Amount :',gen_bill)\n",
        "  print(\"Thank you for visting our shop\")\n",
        "  \n",
        "\n",
        "  product[ui_prod]['Stock']=product[ui_prod]['Stock']-ui_quan"
      ],
      "execution_count": 32,
      "outputs": [
        {
          "output_type": "stream",
          "name": "stdout",
          "text": [
            "*****WELCOME TO THE SHOP*****\n",
            "Enter the User Name :mayur\n",
            "{'1': {'prod_name': 'OPPO F19', 'Color': 'BLACK', 'Price': 18989, 'Stock': 10}, '2': {'prod_name': 'REDMI NOTE 7S', 'Color': 'SHAWDOW BLACK', 'Price': 8999, 'Stock': 25}, '3': {'prod_name': 'REDMI NOTE 7PRO', 'Color': 'MOOMNLIGHT', 'Price': 9999, 'Stock': 22}, '4': {'prod_name': 'REDMI NOTE 7', 'Color': 'SILVER', 'Price': 10000, 'Stock': 11}, '5': {'prod_name': 'REDMI NOTE 6PRO', 'Color': 'BLACK', 'Price': 8000, 'Stock': 5}, '6': {'prod_name': 'REDMI NOTE 6', 'Color': 'BLUE', 'Price': 10000, 'Stock': 14}, '7': {'prod_name': 'REDMI NOTE 5PRO', 'Color': 'GRAY', 'Price': 6999, 'Stock': 5}, '8': {'prod_name': 'REDMI NOTE 5', 'Color': 'GRAY', 'Price': 5999, 'Stock': 4}, '9': {'prod_name': 'REDMI NOTE 10 PRO', 'Color': 'BLUE', 'Price': 14500, 'Stock': 16}, '10': {'prod_name': 'OPPO RENO 6', 'Color': 'SILVER', 'Price': 29990, 'Stock': 22}, '11': {'prod_name': 'OPPO F19 PRO', 'Color': 'BROWN', 'Price': 21490, 'Stock': 2}, '12': {'prod_name': 'REALME 8', 'Color': 'GOLD', 'Price': 14999, 'Stock': 5}, '13': {'prod_name': 'REALME 8 PRO', 'Color': 'PINK', 'Price': 17999, 'Stock': 8}, '14': {'prod_name': 'REALME C3', 'Color': 'VIOLET', 'Price': 13999, 'Stock': 7}, '15': {'prod_name': 'REALME 7', 'Color': 'BLACK', 'Price': 12999, 'Stock': 9}, '16': {'prod_name': 'REALME 7PRO', 'Color': 'GOLD', 'Price': 20133, 'Stock': 5}, '17': {'prod_name': 'REALME X7 PRO', 'Color': 'BLUE', 'Price': 26999, 'Stock': 4}, '18': {'prod_name': 'IPHONE 12', 'Color': 'GOLD', 'Price': 79500, 'Stock': 2}, '19': {'prod_name': 'IPHONE 12PRO', 'Color': 'BLUE', 'Price': 120500, 'Stock': 5}, '20': {'prod_name': 'IPHONE 11', 'Color': 'BLACK', 'Price': 50246, 'Stock': 4}, '21': {'prod_name': 'IPHONE 11PRO', 'Color': 'GREEN', 'Price': 82545, 'Stock': 3}, '22': {'prod_name': 'ONE PLUS9', 'Color': 'BLUE', 'Price': 49999, 'Stock': 8}, '23': {'prod_name': 'ONE PLUS 9PRO', 'Color': 'GREEN', 'Price': 64999, 'Stock': 5}, '24': {'prod_name': 'ONEPLUS NORD', 'Color': 'MOOMLIGHT', 'Price': 25144, 'Stock': 12}, '25': {'prod_name': 'ASUZ ROG PHONE', 'Color': 'BLACK', 'Price': 26454, 'Stock': 15}, '26': {'prod_name': 'POCO M2 PRO', 'Color': 'BLACK', 'Price': 14999, 'Stock': 22}, '27': {'prod_name': 'POCO F2 PRO', 'Color': 'GRAY', 'Price': 14999, 'Stock': 25}, '28': {'prod_name': 'POCO M2', 'Color': 'RED', 'Price': 10140, 'Stock': 19}, '29': {'prod_name': 'LENOVO K6 POWER', 'Color': 'BLACK', 'Price': 9999, 'Stock': 19}, '30': {'prod_name': 'LENOVO VIBE', 'Color': 'WHITE', 'Price': 12999, 'Stock': 25}}\n",
            "Enter the product ID :1\n",
            "Enter the Quantity :2\n",
            "Date and Time : Mon Sep  6 11:03:10 2021\n",
            "Name of custmer : mayur\n",
            "Name of selected product ID : OPPO F19\n",
            "Price of selected product Id : 18989\n",
            "*****PRINTING BILLING AMOUNT*****\n",
            "Billing Amount : 37978\n",
            "Thank you for visting our shop\n"
          ]
        }
      ]
    },
    {
      "cell_type": "code",
      "metadata": {
        "id": "0QMP-t1dvEwK"
      },
      "source": [
        "import random"
      ],
      "execution_count": 33,
      "outputs": []
    },
    {
      "cell_type": "code",
      "metadata": {
        "id": "lrqhRlAAvU39"
      },
      "source": [
        "trans_ID = random.uniform(1 , 100000)"
      ],
      "execution_count": 34,
      "outputs": []
    },
    {
      "cell_type": "code",
      "metadata": {
        "id": "Uj0-U_hIvbfN"
      },
      "source": [
        "Transaction={'trans_ID':trans_ID  ,'product':product[ui_prod]['prod_name']  ,'price':product[ui_prod]['Price']  ,'Quantity':ui_quan  }"
      ],
      "execution_count": 35,
      "outputs": []
    },
    {
      "cell_type": "code",
      "metadata": {
        "colab": {
          "base_uri": "https://localhost:8080/"
        },
        "id": "fbiINlNmwWtC",
        "outputId": "6cb22eb4-4644-4f97-c7ce-a9b8a6d5357b"
      },
      "source": [
        "Transaction"
      ],
      "execution_count": 36,
      "outputs": [
        {
          "output_type": "execute_result",
          "data": {
            "text/plain": [
              "{'Quantity': 2,\n",
              " 'price': 18989,\n",
              " 'product': 'OPPO F19',\n",
              " 'trans_ID': 74264.77599824681}"
            ]
          },
          "metadata": {},
          "execution_count": 36
        }
      ]
    },
    {
      "cell_type": "code",
      "metadata": {
        "id": "7HzXFUlfwZB1"
      },
      "source": [
        "ts = json.dumps(Transaction)"
      ],
      "execution_count": 37,
      "outputs": []
    },
    {
      "cell_type": "code",
      "metadata": {
        "colab": {
          "base_uri": "https://localhost:8080/",
          "height": 36
        },
        "id": "8PMINUPYwprn",
        "outputId": "8863b3f9-cfdc-400f-98aa-1298f3832e80"
      },
      "source": [
        "ts + '\\n'"
      ],
      "execution_count": 38,
      "outputs": [
        {
          "output_type": "execute_result",
          "data": {
            "application/vnd.google.colaboratory.intrinsic+json": {
              "type": "string"
            },
            "text/plain": [
              "'{\"trans_ID\": 74264.77599824681, \"product\": \"OPPO F19\", \"price\": 18989, \"Quantity\": 2}\\n'"
            ]
          },
          "metadata": {},
          "execution_count": 38
        }
      ]
    },
    {
      "cell_type": "code",
      "metadata": {
        "id": "SDB1LR3vwqvI"
      },
      "source": [
        "fd = open(\"ksales.json\",'a')\n",
        "\n",
        "fd.write(ts )\n",
        "\n",
        "fd.close()"
      ],
      "execution_count": 39,
      "outputs": []
    },
    {
      "cell_type": "code",
      "metadata": {
        "id": "WBjgxfnswues"
      },
      "source": [
        "fd = open('ksales.json','r')\n",
        "\n",
        "txt=fd.read()\n",
        "\n",
        "fd.close()"
      ],
      "execution_count": 40,
      "outputs": []
    },
    {
      "cell_type": "code",
      "metadata": {
        "colab": {
          "base_uri": "https://localhost:8080/",
          "height": 36
        },
        "id": "--K14QD_w3C3",
        "outputId": "6ceed88e-0c93-4d6e-cbe0-e8ba04ebec98"
      },
      "source": [
        "txt"
      ],
      "execution_count": 41,
      "outputs": [
        {
          "output_type": "execute_result",
          "data": {
            "application/vnd.google.colaboratory.intrinsic+json": {
              "type": "string"
            },
            "text/plain": [
              "'{\"trans_ID\": 74264.77599824681, \"product\": \"OPPO F19\", \"price\": 18989, \"Quantity\": 2}'"
            ]
          },
          "metadata": {},
          "execution_count": 41
        }
      ]
    },
    {
      "cell_type": "code",
      "metadata": {
        "id": "4bgZdZE6w3_o"
      },
      "source": [
        ""
      ],
      "execution_count": null,
      "outputs": []
    }
  ]
}